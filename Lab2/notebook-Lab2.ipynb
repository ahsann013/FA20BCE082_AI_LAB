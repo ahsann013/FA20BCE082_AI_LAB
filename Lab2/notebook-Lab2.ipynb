{
 "cells": [
  {
   "cell_type": "code",
   "execution_count": 3,
   "id": "e12e490b-d68f-4147-b7a9-99b6897c27a9",
   "metadata": {},
   "outputs": [
    {
     "name": "stdout",
     "output_type": "stream",
     "text": [
      "Hello World!\n"
     ]
    }
   ],
   "source": [
    "# -*- coding: utf-8 -*-\n",
    "\n",
    "print('Hello World!')"
   ]
  },
  {
   "cell_type": "code",
   "execution_count": 4,
   "id": "9112a675-b317-4143-af94-33bfcb7a6806",
   "metadata": {},
   "outputs": [
    {
     "name": "stdout",
     "output_type": "stream",
     "text": [
      "Hello World\n",
      "My name is Ahsan Yousaf\n",
      "My registration is FA20-BCE-082\n",
      "My First AI Lab\n"
     ]
    }
   ],
   "source": [
    "print('''Hello World\n",
    "My name is Ahsan Yousaf\n",
    "My registration is FA20-BCE-082\n",
    "My First AI Lab''')"
   ]
  },
  {
   "cell_type": "code",
   "execution_count": null,
   "id": "61a6b6f2-ab99-41e7-9a55-f3d0620f99d0",
   "metadata": {},
   "outputs": [],
   "source": []
  }
 ],
 "metadata": {
  "kernelspec": {
   "display_name": "Python 3 (ipykernel)",
   "language": "python",
   "name": "python3"
  },
  "language_info": {
   "codemirror_mode": {
    "name": "ipython",
    "version": 3
   },
   "file_extension": ".py",
   "mimetype": "text/x-python",
   "name": "python",
   "nbconvert_exporter": "python",
   "pygments_lexer": "ipython3",
   "version": "3.9.13"
  }
 },
 "nbformat": 4,
 "nbformat_minor": 5
}

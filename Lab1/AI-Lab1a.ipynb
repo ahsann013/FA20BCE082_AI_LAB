{
 "cells": [
  {
   "cell_type": "code",
   "execution_count": 1,
   "id": "9834a1b9-d0ea-435f-8236-da71de741f77",
   "metadata": {},
   "outputs": [
    {
     "name": "stdout",
     "output_type": "stream",
     "text": [
      "Hello World!\n"
     ]
    }
   ],
   "source": [
    "print('Hello World!')\n"
   ]
  },
  {
   "cell_type": "code",
   "execution_count": 2,
   "id": "e84dfd61-2e91-4a69-80d9-cbd173b6ddea",
   "metadata": {},
   "outputs": [
    {
     "name": "stdout",
     "output_type": "stream",
     "text": [
      "Hello World\n",
      "My name is Ahsan Yousaf\n",
      "My registration is FA20-BCE-082\n",
      "My First AI Lab\n"
     ]
    }
   ],
   "source": [
    "print('''Hello World\n",
    "My name is Ahsan Yousaf\n",
    "My registration is FA20-BCE-082\n",
    "My First AI Lab''')"
   ]
  },
  {
   "cell_type": "code",
   "execution_count": 3,
   "id": "a40ab26a-b977-44c0-82b9-e433babe0358",
   "metadata": {},
   "outputs": [
    {
     "name": "stdout",
     "output_type": "stream",
     "text": [
      "Generated Number  15\n",
      "Total attempts 100\n",
      "Attempts remaining:  100\n"
     ]
    },
    {
     "name": "stdin",
     "output_type": "stream",
     "text": [
      "Guess a number:  56\n"
     ]
    },
    {
     "name": "stdout",
     "output_type": "stream",
     "text": [
      "Number is greater than the generated number\n",
      "87\n",
      "Attempts remaining:  99\n"
     ]
    },
    {
     "name": "stdin",
     "output_type": "stream",
     "text": [
      "Guess a number:  87\n"
     ]
    },
    {
     "name": "stdout",
     "output_type": "stream",
     "text": [
      "You guessed it right in 2 attempts!\n"
     ]
    }
   ],
   "source": [
    "import random as rn\n",
    "\n",
    "\n",
    "value = rn.randint(0, 100)\n",
    "print(\"Generated Number \",value)\n",
    "\n",
    "attempts = 100\n",
    "print(\"Total attempts\",attempts)\n",
    "\n",
    "while True:\n",
    "    \n",
    "    print(\"Attempts remaining: \",attempts)\n",
    "    guess = int(input('Guess a number: '))\n",
    " \n",
    "    attempts -= 1\n",
    "\n",
    "    if value > guess:\n",
    "        print('Number is less than the generated number')\n",
    "    elif value < guess:\n",
    "        print('Number is greater than the generated number')\n",
    "    else:\n",
    "        print('You guessed it right in', 100-attempts, 'attempts!')\n",
    "        break \n",
    "        \n",
    "    value = rn.randint(0, 100)\n",
    "    print(value)\n",
    "    "
   ]
  }
 ],
 "metadata": {
  "kernelspec": {
   "display_name": "Python 3 (ipykernel)",
   "language": "python",
   "name": "python3"
  },
  "language_info": {
   "codemirror_mode": {
    "name": "ipython",
    "version": 3
   },
   "file_extension": ".py",
   "mimetype": "text/x-python",
   "name": "python",
   "nbconvert_exporter": "python",
   "pygments_lexer": "ipython3",
   "version": "3.9.13"
  }
 },
 "nbformat": 4,
 "nbformat_minor": 5
}

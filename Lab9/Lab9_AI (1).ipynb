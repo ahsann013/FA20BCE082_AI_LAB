{
  "nbformat": 4,
  "nbformat_minor": 0,
  "metadata": {
    "colab": {
      "provenance": []
    },
    "kernelspec": {
      "name": "python3",
      "display_name": "Python 3"
    },
    "language_info": {
      "name": "python"
    }
  },
  "cells": [
    {
      "cell_type": "code",
      "execution_count": 24,
      "metadata": {
        "id": "2rTL2kQOse94"
      },
      "outputs": [],
      "source": [
        "# Load libraries\n",
        "import pandas as pd\n",
        "from sklearn.tree import DecisionTreeClassifier # Import Decision\n",
        "from sklearn.model_selection import train_test_split # Import tra\n",
        "from sklearn import metrics #Import\n",
        "\n"
      ]
    },
    {
      "cell_type": "code",
      "source": [
        "# Load Dataset\n",
        "# https://www.kaggle.com/datasets/uciml/pima-indians-diabetes-database\n",
        "col_names = ['Pregnancies', 'Glucose', 'Bloodpressure', 'Skin-thickness', 'Insulin', 'Bmi', 'Pedigree', 'Age', 'Outcome'] # load dataset\n",
        "pima = pd.read_csv(\"diabetes.csv\", header=None, names=col_names)\n",
        "pima_df= pima.head()\n",
        "print (pima_df)"
      ],
      "metadata": {
        "colab": {
          "base_uri": "https://localhost:8080/"
        },
        "id": "xFOYwAWpumsL",
        "outputId": "379142da-8bc5-4557-9aed-46686b179d9f"
      },
      "execution_count": 49,
      "outputs": [
        {
          "output_type": "stream",
          "name": "stdout",
          "text": [
            "   Pregnancies  Glucose  Bloodpressure  Skin-thickness  Insulin   Bmi  \\\n",
            "0            6      148             72              35        0  33.6   \n",
            "1            1       85             66              29        0  26.6   \n",
            "2            8      183             64               0        0  23.3   \n",
            "3            1       89             66              23       94  28.1   \n",
            "4            0      137             40              35      168  43.1   \n",
            "\n",
            "   Pedigree  Age  Outcome  \n",
            "0     0.627   50        1  \n",
            "1     0.351   31        0  \n",
            "2     0.672   32        1  \n",
            "3     0.167   21        0  \n",
            "4     2.288   33        1  \n"
          ]
        }
      ]
    },
    {
      "cell_type": "code",
      "source": [
        "\n",
        "#Splitting Data\n",
        "#Split dataset into training set and test set\n",
        "X_train, X_test, y_train, y_test = train_test_split(X, y, test_size=0.3, random_state=1)\n",
        "#70% training and 30% test"
      ],
      "metadata": {
        "id": "NBmRDyfyvCIu"
      },
      "execution_count": 50,
      "outputs": []
    },
    {
      "cell_type": "code",
      "source": [
        "\n",
        "#Feature Selection\n",
        "#\n",
        "#split dataset in features and target variable\n",
        "feature_cols = ['Pregnancies', 'Insulin', 'Bmi', 'Age', 'Glucose', 'Bloodpressure', 'Pedigree']\n",
        "X = pima[feature_cols] # Features\n",
        "y = pima.Glucose # Target variable\n"
      ],
      "metadata": {
        "id": "8pf5IggtvpCP"
      },
      "execution_count": 51,
      "outputs": []
    },
    {
      "cell_type": "code",
      "source": [
        "#Create Decision Tree classifer object\n",
        "clf = DecisionTreeClassifier()\n",
        "\n",
        "#Train Decision Tree Classifer\n",
        "clf = clf.fit(X_train,y_train)\n",
        "\n",
        "y_pred = clf.predict(X_test)\n",
        "\n",
        "\n",
        "#Model Accuracy, how often is the classifier correct?\n",
        "print(\"Accuracy: \", metrics.accuracy_score (y_test,y_pred))"
      ],
      "metadata": {
        "colab": {
          "base_uri": "https://localhost:8080/"
        },
        "id": "GVnxiLmV2cOR",
        "outputId": "3e4e405a-392a-4403-bcc5-1d99d6fb5b42"
      },
      "execution_count": 52,
      "outputs": [
        {
          "output_type": "stream",
          "name": "stdout",
          "text": [
            "Accuracy:  0.922077922077922\n"
          ]
        }
      ]
    },
    {
      "cell_type": "code",
      "source": [
        "#Visualizing Decision Trees\n",
        "from sklearn.tree import export_graphviz\n",
        "import graphviz\n",
        "#Export the decision tree to DOT format\n",
        "dot_data = export_graphviz(clf, out_file=None,\n",
        "                           feature_names=X_train.columns, # Replace with your feature names\n",
        "                           class_names=[str(x) for x in clf.classes_], # Convert class names to stri\n",
        "                           filled=True, rounded=True, special_characters=True)\n",
        "#Create and display the graph\n",
        "graph =graphviz.Source(dot_data)\n",
        "graph.render(\"decision_tree\") # Saves the visualization as a file (e.g., \"decision_tree.pdf\")\n",
        "graph.view(\"decision_tree\") # Opens the visualization using the default viewer\n"
      ],
      "metadata": {
        "colab": {
          "base_uri": "https://localhost:8080/",
          "height": 36
        },
        "id": "-GzkOFkQ2kl2",
        "outputId": "99f3c726-106c-42dd-fde2-eb040035a801"
      },
      "execution_count": 53,
      "outputs": [
        {
          "output_type": "execute_result",
          "data": {
            "text/plain": [
              "'decision_tree.pdf'"
            ],
            "application/vnd.google.colaboratory.intrinsic+json": {
              "type": "string"
            }
          },
          "metadata": {},
          "execution_count": 53
        }
      ]
    },
    {
      "cell_type": "code",
      "source": [
        "\n",
        "#Optimizing Decision Tree Performance\n",
        "# Create Decision Tree classifer object\n",
        "clf = DecisionTreeClassifier(criterion=\"entropy\", max_depth=3)\n",
        "#Train Decision Tree Classifer\n",
        "clf = clf.fit(X_train,y_train)\n",
        "#Predict the response for test dataset\n",
        "y_pred = clf.predict(X_test)\n",
        "#Model Accuracy, how often is the classifier correct?\n",
        "print(\"Accuracy: \",metrics.accuracy_score (y_test,y_pred))"
      ],
      "metadata": {
        "colab": {
          "base_uri": "https://localhost:8080/"
        },
        "id": "DEwOXk8E3CsN",
        "outputId": "e33f87e1-3791-45ee-cfdc-8130f7a4f996"
      },
      "execution_count": 54,
      "outputs": [
        {
          "output_type": "stream",
          "name": "stdout",
          "text": [
            "Accuracy:  0.09523809523809523\n"
          ]
        }
      ]
    }
  ]
}